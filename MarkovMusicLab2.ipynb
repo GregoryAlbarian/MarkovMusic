{
 "cells": [
  {
   "cell_type": "markdown",
   "metadata": {},
   "source": [
    "# Song Lyric Generation (first order Markov Model)"
   ]
  },
  {
   "cell_type": "markdown",
   "metadata": {},
   "source": [
    "<h3>Music Chosen</h3>\n",
    "Party in the CIA<br>\n",
    "Like a Surgeon<br>\n",
    "Eat it all by Weird Al Yankovich<br>\n",
    "Backwards  Rascal Flats<br>\n",
    "Another One Bites the Dust by Queen"
   ]
  },
  {
   "cell_type": "code",
   "execution_count": 4,
   "metadata": {},
   "outputs": [],
   "source": [
    "import pprint\n",
    "def clean_word (word):\n",
    "    word = word.lower()\n",
    "    # gets rid of \\n's\n",
    "    if word[-1:] == '\\n':\n",
    "        word = word[:-1]\n",
    "    return word\n",
    "\n",
    "def read_single_song (file_name, current_dictionary):\n",
    "    file = open(file_name,\"r\")\n",
    "    word_amount = 0\n",
    "    for i in file:\n",
    "        word_list = i.split(\" \")\n",
    "        word_amount += len(word_list)\n",
    "        for j in word_list:\n",
    "            word = clean_word(j)\n",
    "            if j not in current_dictionary:\n",
    "                current_dictionary[word] = 0\n",
    "\n",
    "    return current_dictionary, word_amount\n"
   ]
  },
  {
   "cell_type": "code",
   "execution_count": 5,
   "metadata": {},
   "outputs": [],
   "source": [
    "def build_next_word_dictionary (file_name, next_word):\n",
    "    \n",
    "    file = open(file_name,\"r\")\n",
    "    #maybe get rid of blank dictionary should just be empty {} by default\n",
    "    # found_vocabulary = read_single_song(file_name, {})\n",
    "    \n",
    "    word_before = \"\"\n",
    "    for i in file:\n",
    "        \n",
    "        word_list = i.split(\" \")\n",
    "        for j in word_list:\n",
    "            word = clean_word(j)\n",
    "            if word_before != \"\":\n",
    "                \n",
    "                next_word[word_before][word] = next_word[word_before][word]+1\n",
    "            word_before = word\n",
    "        \n",
    "    file.close()\n",
    "\n",
    "    return next_word"
   ]
  },
  {
   "cell_type": "code",
   "execution_count": 11,
   "metadata": {},
   "outputs": [],
   "source": [
    "current = {}\n",
    "vocabulary = {}\n",
    "songs = [\"PartyInTheCIA.txt\", \"backwards.txt\", \"EatIt.txt\", \"LikeASurgeon.txt\", \"LikeASurgeon.txt\", \"AnotherOneBitesTheDust.txt\"]\n",
    "word_amounts = []\n",
    "for song in songs:\n",
    "    song_data = read_single_song(song, current)\n",
    "    current = song_data[0]\n",
    "    word_amounts.append(song_data[1])"
   ]
  },
  {
   "cell_type": "code",
   "execution_count": 13,
   "metadata": {
    "scrolled": true
   },
   "outputs": [],
   "source": [
    "import copy\n",
    "next_word = {}\n",
    "for i in current:\n",
    "    next_word[i] = copy.deepcopy(current)\n",
    "for song in songs:\n",
    "    occurrences = build_next_word_dictionary(song, next_word)"
   ]
  },
  {
   "cell_type": "code",
   "execution_count": 24,
   "metadata": {},
   "outputs": [
    {
     "name": "stdout",
     "output_type": "stream",
     "text": [
      "It's\n"
     ]
    }
   ],
   "source": [
    "# finding the first word\n",
    "from random import randrange\n",
    "random = randrange(len(songs))\n",
    "file = open(songs[random], \"r\")\n",
    "first_line = file.readline()\n",
    "all_words = first_line.split(\" \")\n",
    "first_word = all_words[0]\n",
    "file.close()\n",
    "print(first_word)"
   ]
  },
  {
   "cell_type": "code",
   "execution_count": 25,
   "metadata": {},
   "outputs": [],
   "source": [
    "def pick_next_word(word1):\n",
    "    picking_list = []\n",
    "    word1_dictionary = occurrences[word1]\n",
    "    for i in word1_dictionary:\n",
    "        appearance = occurrences[word1][i]\n",
    "        for j in range(appearance):\n",
    "            picking_list.append(i)\n",
    "    random = randrange(len(picking_list))\n",
    "    return picking_list[random]"
   ]
  },
  {
   "cell_type": "code",
   "execution_count": 31,
   "metadata": {},
   "outputs": [
    {
     "name": "stdout",
     "output_type": "stream",
     "text": [
      "411\n"
     ]
    }
   ],
   "source": [
    "import numpy as np\n",
    "standard_deviation = np.std(word_amounts)\n",
    "average = np.mean(word_amounts)\n",
    "song_length = int(np.random.normal(average, standard_deviation, 1))\n",
    "if song_length<0:\n",
    "    song_length = -song_length\n",
    "print(song_length)"
   ]
  },
  {
   "cell_type": "code",
   "execution_count": 34,
   "metadata": {},
   "outputs": [
    {
     "name": "stdout",
     "output_type": "stream",
     "text": [
      "it's fresh or it's a waterboardin' session! no \n",
      "sound of the lawn and the cia yeeeaaahhh, \n",
      "it's boiled or it's a man and i \n",
      "reach inside with charlie you get yourself to \n",
      "the enemy spies i've done a surgeon, ooh \n",
      "baby, yeah we could turn it have almost \n",
      "fell flat out of state who wasn't even \n",
      "on my scalpel, and shot the pond and \n",
      "bring him bad and the bail and my \n",
      "patients die, yeah, my patients die before they \n",
      "can pay  "
     ]
    },
    {
     "ename": "ValueError",
     "evalue": "empty range for randrange()",
     "output_type": "error",
     "traceback": [
      "\u001b[1;31m---------------------------------------------------------------------------\u001b[0m",
      "\u001b[1;31mValueError\u001b[0m                                Traceback (most recent call last)",
      "\u001b[1;32m<ipython-input-34-7f64d8a43730>\u001b[0m in \u001b[0;36m<module>\u001b[1;34m\u001b[0m\n\u001b[0;32m      2\u001b[0m \u001b[1;32mfor\u001b[0m \u001b[0mi\u001b[0m \u001b[1;32min\u001b[0m \u001b[0mrange\u001b[0m\u001b[1;33m(\u001b[0m\u001b[0msong_length\u001b[0m\u001b[1;33m)\u001b[0m\u001b[1;33m:\u001b[0m\u001b[1;33m\u001b[0m\u001b[1;33m\u001b[0m\u001b[0m\n\u001b[0;32m      3\u001b[0m     \u001b[0mprint\u001b[0m\u001b[1;33m(\u001b[0m\u001b[0mword1\u001b[0m\u001b[1;33m,\u001b[0m \u001b[0mend\u001b[0m \u001b[1;33m=\u001b[0m \u001b[1;34m\" \"\u001b[0m\u001b[1;33m)\u001b[0m\u001b[1;33m\u001b[0m\u001b[1;33m\u001b[0m\u001b[0m\n\u001b[1;32m----> 4\u001b[1;33m     \u001b[0mword1\u001b[0m \u001b[1;33m=\u001b[0m \u001b[0mpick_next_word\u001b[0m\u001b[1;33m(\u001b[0m\u001b[0mword1\u001b[0m\u001b[1;33m)\u001b[0m\u001b[1;33m\u001b[0m\u001b[1;33m\u001b[0m\u001b[0m\n\u001b[0m\u001b[0;32m      5\u001b[0m     \u001b[1;32mif\u001b[0m \u001b[1;33m(\u001b[0m\u001b[0mi\u001b[0m\u001b[1;33m+\u001b[0m\u001b[1;36m1\u001b[0m\u001b[1;33m)\u001b[0m \u001b[1;33m%\u001b[0m \u001b[1;36m8\u001b[0m \u001b[1;33m==\u001b[0m \u001b[1;36m0\u001b[0m\u001b[1;33m:\u001b[0m\u001b[1;33m\u001b[0m\u001b[1;33m\u001b[0m\u001b[0m\n\u001b[0;32m      6\u001b[0m         \u001b[0mprint\u001b[0m\u001b[1;33m(\u001b[0m\u001b[1;33m)\u001b[0m\u001b[1;33m\u001b[0m\u001b[1;33m\u001b[0m\u001b[0m\n",
      "\u001b[1;32m<ipython-input-25-206bb629649a>\u001b[0m in \u001b[0;36mpick_next_word\u001b[1;34m(word1)\u001b[0m\n\u001b[0;32m      6\u001b[0m         \u001b[1;32mfor\u001b[0m \u001b[0mj\u001b[0m \u001b[1;32min\u001b[0m \u001b[0mrange\u001b[0m\u001b[1;33m(\u001b[0m\u001b[0mappearance\u001b[0m\u001b[1;33m)\u001b[0m\u001b[1;33m:\u001b[0m\u001b[1;33m\u001b[0m\u001b[1;33m\u001b[0m\u001b[0m\n\u001b[0;32m      7\u001b[0m             \u001b[0mpicking_list\u001b[0m\u001b[1;33m.\u001b[0m\u001b[0mappend\u001b[0m\u001b[1;33m(\u001b[0m\u001b[0mi\u001b[0m\u001b[1;33m)\u001b[0m\u001b[1;33m\u001b[0m\u001b[1;33m\u001b[0m\u001b[0m\n\u001b[1;32m----> 8\u001b[1;33m     \u001b[0mrandom\u001b[0m \u001b[1;33m=\u001b[0m \u001b[0mrandrange\u001b[0m\u001b[1;33m(\u001b[0m\u001b[0mlen\u001b[0m\u001b[1;33m(\u001b[0m\u001b[0mpicking_list\u001b[0m\u001b[1;33m)\u001b[0m\u001b[1;33m)\u001b[0m\u001b[1;33m\u001b[0m\u001b[1;33m\u001b[0m\u001b[0m\n\u001b[0m\u001b[0;32m      9\u001b[0m     \u001b[1;32mreturn\u001b[0m \u001b[0mpicking_list\u001b[0m\u001b[1;33m[\u001b[0m\u001b[0mrandom\u001b[0m\u001b[1;33m]\u001b[0m\u001b[1;33m\u001b[0m\u001b[1;33m\u001b[0m\u001b[0m\n",
      "\u001b[1;32m~\\Anaconda4\\lib\\random.py\u001b[0m in \u001b[0;36mrandrange\u001b[1;34m(self, start, stop, step, _int)\u001b[0m\n\u001b[0;32m    187\u001b[0m             \u001b[1;32mif\u001b[0m \u001b[0mistart\u001b[0m \u001b[1;33m>\u001b[0m \u001b[1;36m0\u001b[0m\u001b[1;33m:\u001b[0m\u001b[1;33m\u001b[0m\u001b[1;33m\u001b[0m\u001b[0m\n\u001b[0;32m    188\u001b[0m                 \u001b[1;32mreturn\u001b[0m \u001b[0mself\u001b[0m\u001b[1;33m.\u001b[0m\u001b[0m_randbelow\u001b[0m\u001b[1;33m(\u001b[0m\u001b[0mistart\u001b[0m\u001b[1;33m)\u001b[0m\u001b[1;33m\u001b[0m\u001b[1;33m\u001b[0m\u001b[0m\n\u001b[1;32m--> 189\u001b[1;33m             \u001b[1;32mraise\u001b[0m \u001b[0mValueError\u001b[0m\u001b[1;33m(\u001b[0m\u001b[1;34m\"empty range for randrange()\"\u001b[0m\u001b[1;33m)\u001b[0m\u001b[1;33m\u001b[0m\u001b[1;33m\u001b[0m\u001b[0m\n\u001b[0m\u001b[0;32m    190\u001b[0m \u001b[1;33m\u001b[0m\u001b[0m\n\u001b[0;32m    191\u001b[0m         \u001b[1;31m# stop argument supplied.\u001b[0m\u001b[1;33m\u001b[0m\u001b[1;33m\u001b[0m\u001b[1;33m\u001b[0m\u001b[0m\n",
      "\u001b[1;31mValueError\u001b[0m: empty range for randrange()"
     ]
    }
   ],
   "source": [
    "word1 = clean_word(first_word) \n",
    "for i in range(song_length):\n",
    "    print(word1, end = \" \")\n",
    "    word1 = pick_next_word(word1)\n",
    "    if (i+1) % 8 == 0:\n",
    "        print()"
   ]
  },
  {
   "cell_type": "markdown",
   "metadata": {},
   "source": [
    "<h3>References:</h3>\n",
    "https://thispointer.com/python-how-to-copy-a-dictionary-shallow-copy-vs-deep-copy/  \n",
    "https://thispointer.com/python-how-to-copy-a-dictionary-shallow-copy-vs-deep-copy/  \n",
    "https://docs.scipy.org/doc/numpy/reference/generated/numpy.std.html  \n",
    "https://docs.scipy.org/doc/numpy/reference/generated/numpy.mean.html  \n",
    "https://stackoverflow.com/questions/3996904/generate-random-integers-between-0-and-9"
   ]
  },
  {
   "cell_type": "code",
   "execution_count": null,
   "metadata": {
    "collapsed": true
   },
   "outputs": [],
   "source": []
  }
 ],
 "metadata": {
  "kernelspec": {
   "display_name": "Python 3",
   "language": "python",
   "name": "python3"
  },
  "language_info": {
   "codemirror_mode": {
    "name": "ipython",
    "version": 3
   },
   "file_extension": ".py",
   "mimetype": "text/x-python",
   "name": "python",
   "nbconvert_exporter": "python",
   "pygments_lexer": "ipython3",
   "version": "3.6.10"
  }
 },
 "nbformat": 4,
 "nbformat_minor": 2
}
